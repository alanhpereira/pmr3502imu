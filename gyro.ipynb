{
 "cells": [
  {
   "cell_type": "code",
   "execution_count": 1,
   "id": "51917dc2",
   "metadata": {},
   "outputs": [],
   "source": [
    "import socket\n",
    "import numpy as np\n",
    "import matplotlib.pyplot as plt\n",
    "import math\n",
    "import scipy"
   ]
  },
  {
   "cell_type": "code",
   "execution_count": 2,
   "id": "36416894",
   "metadata": {},
   "outputs": [],
   "source": [
    "def le_dados_imu(N, func=None, endereco = \"shaka\", porta=1234):\n",
    "    dd = []\n",
    "    with socket.socket(socket.AF_INET, socket.SOCK_STREAM) as s:\n",
    "        s.connect((endereco, porta))\n",
    "        for i in range(N):\n",
    "            data = s.recv(32)\n",
    "            ax = int.from_bytes(data[0:2], byteorder='big', signed=True)\n",
    "            ay = int.from_bytes(data[2:4], byteorder='big', signed=True) \n",
    "            az = int.from_bytes(data[4:6], byteorder='big', signed=True) \n",
    "            temp = int.from_bytes(data[6:8], byteorder='big', signed=True) \n",
    "            wx = int.from_bytes(data[8:10], byteorder='big', signed=True)\n",
    "            wy = int.from_bytes(data[10:12], byteorder='big', signed=True)\n",
    "            wz = int.from_bytes(data[12:14], byteorder='big', signed=True)\n",
    "            mx = int.from_bytes(data[14:16], byteorder='big', signed=True)\n",
    "            my = int.from_bytes(data[16:18], byteorder='big', signed=True)\n",
    "            mz = int.from_bytes(data[18:20], byteorder='big', signed=True)\n",
    "            t = int.from_bytes(data[-8:], byteorder='little', signed=False)\n",
    "            dd.append([ax, ay, az, wx, wy, wz, mx, my, mz, temp, t])\n",
    "            if func:\n",
    "                func(i)\n",
    "    return dd"
   ]
  },
  {
   "cell_type": "code",
   "execution_count": 14,
   "id": "c965e1bb",
   "metadata": {},
   "outputs": [
    {
     "name": "stdout",
     "output_type": "stream",
     "text": [
      "[-181.4548672  -151.19968288  119.58441564    0.99810697    0.99971396\n",
      "    0.98932928]\n"
     ]
    }
   ],
   "source": [
    "res2x = np.loadtxt(\"res2x.txt\")\n",
    "Q = np.loadtxt(\"Q.txt\")\n",
    "scale = 0.000598\n",
    "gy_scale= 0.001064724\n",
    "mag_scale = 0.001810\n",
    "print(res2x)"
   ]
  },
  {
   "cell_type": "code",
   "execution_count": null,
   "id": "314fcbfb",
   "metadata": {},
   "outputs": [
    {
     "name": "stdout",
     "output_type": "stream",
     "text": [
      "Coletando dados: 100%\r"
     ]
    }
   ],
   "source": [
    "dados = le_dados_imu(6000, lambda i : print(\"Coletando dados: \" + str(int(100*(i+1)/6000))+ \"%\", end=\"\\r\"))\n",
    "np.savetxt(\"GyroParado.txt\", np.array(dados)[:,3:6])\n"
   ]
  },
  {
   "cell_type": "code",
   "execution_count": 5,
   "id": "35225939",
   "metadata": {},
   "outputs": [
    {
     "name": "stdout",
     "output_type": "stream",
     "text": [
      "[-34.82366667   5.474      -16.5495    ]\n"
     ]
    }
   ],
   "source": [
    "\n",
    "gp = np.loadtxt(\"GyroParado.txt\")\n",
    "gyOffset = np.average(gp,0)\n",
    "print(gyOffset)\n",
    "np.savetxt(\"gyOffset.txt\",gyOffset)"
   ]
  },
  {
   "cell_type": "code",
   "execution_count": 12,
   "id": "45f65579",
   "metadata": {},
   "outputs": [],
   "source": [
    "def getRobotGy(gy):\n",
    "    return (Q@(np.array(gy)-gyOffset))"
   ]
  },
  {
   "cell_type": "code",
   "execution_count": 29,
   "id": "8306b079",
   "metadata": {},
   "outputs": [
    {
     "name": "stdout",
     "output_type": "stream",
     "text": [
      "[-1.692000e+03  2.020000e+02  1.636800e+04 -3.200000e+01  6.000000e+00\n",
      " -1.600000e+01 -1.260000e+02  1.100000e+02 -1.000000e+02  2.227000e+03\n",
      "  1.748444e+18]\n"
     ]
    },
    {
     "data": {
      "image/png": "[encoded data removed]",
      "text/plain": [
       "<Figure size 640x480 with 1 Axes>"
      ]
     },
     "metadata": {},
     "output_type": "display_data"
    }
   ],
   "source": [
    "allData = np.loadtxt(\"orientados.txt\")\n",
    "\n",
    "gy = allData[:,3:6]\n",
    "Time = allData[:,10]\n",
    "print(allData[0])\n",
    "W_Ant, theta = 0,0\n",
    "T0= Time[0]\n",
    "T_ant = T0\n",
    "X = np.zeros(len(Time))\n",
    "Y = np.zeros(len(Time))\n",
    "for i in range(len(Time)):\n",
    "    X[i] = (Time[i]-T0)/1e9 # ns to s\n",
    "    #print(Time[i])\n",
    "    dt =(Time[i] - Time[i-1])/1e9\n",
    "    #print(dt)\n",
    "    W =getRobotGy(gy[i]) \n",
    "    wz = W[2]*180/np.pi*gy_scale\n",
    "\n",
    "    theta += (wz+W_Ant)/2*dt\n",
    "    W_Ant=wz\n",
    "    Y[i]=theta\n",
    "\n",
    "plt.plot(X,Y)\n",
    "plt.grid(True)\n",
    "plt.show()"
   ]
  }
 ],
 "metadata": {
  "kernelspec": {
   "display_name": "Python 3",
   "language": "python",
   "name": "python3"
  },
  "language_info": {
   "codemirror_mode": {
    "name": "ipython",
    "version": 3
   },
   "file_extension": ".py",
   "mimetype": "text/x-python",
   "name": "python",
   "nbconvert_exporter": "python",
   "pygments_lexer": "ipython3",
   "version": "3.10.4"
  }
 },
 "nbformat": 4,
 "nbformat_minor": 5
}
