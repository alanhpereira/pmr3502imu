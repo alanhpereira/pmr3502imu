{
 "cells": [
  {
   "cell_type": "code",
   "execution_count": 2,
   "id": "add09390",
   "metadata": {},
   "outputs": [],
   "source": [
    "import socket\n",
    "import numpy as np\n",
    "import matplotlib.pyplot as plt\n",
    "import math\n",
    "import scipy"
   ]
  },
  {
   "cell_type": "code",
   "execution_count": 3,
   "id": "9e4c3afc",
   "metadata": {},
   "outputs": [],
   "source": [
    "def le_dados_imu(N, func=None, endereco = \"shaka\", porta=1234):\n",
    "    dd = []\n",
    "    with socket.socket(socket.AF_INET, socket.SOCK_STREAM) as s:\n",
    "        s.connect((endereco, porta))\n",
    "        for i in range(N):\n",
    "            data = s.recv(32)\n",
    "            ax = int.from_bytes(data[0:2], byteorder='big', signed=True)\n",
    "            ay = int.from_bytes(data[2:4], byteorder='big', signed=True) \n",
    "            az = int.from_bytes(data[4:6], byteorder='big', signed=True) \n",
    "            temp = int.from_bytes(data[6:8], byteorder='big', signed=True) \n",
    "            wx = int.from_bytes(data[8:10], byteorder='big', signed=True)\n",
    "            wy = int.from_bytes(data[10:12], byteorder='big', signed=True)\n",
    "            wz = int.from_bytes(data[12:14], byteorder='big', signed=True)\n",
    "            mx = int.from_bytes(data[14:16], byteorder='big', signed=True)\n",
    "            my = int.from_bytes(data[16:18], byteorder='big', signed=True)\n",
    "            mz = int.from_bytes(data[18:20], byteorder='big', signed=True)\n",
    "            t = int.from_bytes(data[-8:], byteorder='little', signed=False)\n",
    "            dd.append([ax, ay, az, wx, wy, wz, mx, my, mz, temp, t])\n",
    "            if func:\n",
    "                func(i)\n",
    "    return dd"
   ]
  },
  {
   "cell_type": "code",
   "execution_count": 4,
   "id": "a6d8e1c9",
   "metadata": {},
   "outputs": [
    {
     "name": "stdout",
     "output_type": "stream",
     "text": [
      "[-181.4548672  -151.19968288  119.58441564    0.99810697    0.99971396\n",
      "    0.98932928]\n"
     ]
    }
   ],
   "source": [
    "res2x = np.loadtxt(\"res2x.txt\")\n",
    "scale = 0.000598\n",
    "mag_scale = 0.001810\n",
    "print(res2x)"
   ]
  },
  {
   "cell_type": "code",
   "execution_count": 62,
   "id": "914738fe",
   "metadata": {},
   "outputs": [
    {
     "ename": "ConnectionRefusedError",
     "evalue": "[WinError 10061] Nenhuma conexão pôde ser feita porque a máquina de destino as recusou ativamente",
     "output_type": "error",
     "traceback": [
      "\u001b[1;31m---------------------------------------------------------------------------\u001b[0m",
      "\u001b[1;31mConnectionRefusedError\u001b[0m                    Traceback (most recent call last)",
      "Cell \u001b[1;32mIn[62], line 1\u001b[0m\n\u001b[1;32m----> 1\u001b[0m dados \u001b[38;5;241m=\u001b[39m \u001b[43mle_dados_imu\u001b[49m\u001b[43m(\u001b[49m\u001b[38;5;241;43m6000\u001b[39;49m\u001b[43m,\u001b[49m\u001b[43m \u001b[49m\u001b[38;5;28;43;01mlambda\u001b[39;49;00m\u001b[43m \u001b[49m\u001b[43mi\u001b[49m\u001b[43m \u001b[49m\u001b[43m:\u001b[49m\u001b[43m \u001b[49m\u001b[38;5;28;43mprint\u001b[39;49m\u001b[43m(\u001b[49m\u001b[38;5;124;43m\"\u001b[39;49m\u001b[38;5;124;43mColetando dados: \u001b[39;49m\u001b[38;5;124;43m\"\u001b[39;49m\u001b[43m \u001b[49m\u001b[38;5;241;43m+\u001b[39;49m\u001b[43m \u001b[49m\u001b[38;5;28;43mstr\u001b[39;49m\u001b[43m(\u001b[49m\u001b[38;5;28;43mint\u001b[39;49m\u001b[43m(\u001b[49m\u001b[38;5;241;43m100\u001b[39;49m\u001b[38;5;241;43m*\u001b[39;49m\u001b[43m(\u001b[49m\u001b[43mi\u001b[49m\u001b[38;5;241;43m+\u001b[39;49m\u001b[38;5;241;43m1\u001b[39;49m\u001b[43m)\u001b[49m\u001b[38;5;241;43m/\u001b[39;49m\u001b[38;5;241;43m6000\u001b[39;49m\u001b[43m)\u001b[49m\u001b[43m)\u001b[49m\u001b[38;5;241;43m+\u001b[39;49m\u001b[43m \u001b[49m\u001b[38;5;124;43m\"\u001b[39;49m\u001b[38;5;124;43m%\u001b[39;49m\u001b[38;5;124;43m\"\u001b[39;49m\u001b[43m,\u001b[49m\u001b[43m \u001b[49m\u001b[43mend\u001b[49m\u001b[38;5;241;43m=\u001b[39;49m\u001b[38;5;124;43m\"\u001b[39;49m\u001b[38;5;130;43;01m\\r\u001b[39;49;00m\u001b[38;5;124;43m\"\u001b[39;49m\u001b[43m)\u001b[49m\u001b[43m)\u001b[49m\n",
      "Cell \u001b[1;32mIn[60], line 4\u001b[0m, in \u001b[0;36mle_dados_imu\u001b[1;34m(N, func, endereco, porta)\u001b[0m\n\u001b[0;32m      2\u001b[0m dd \u001b[38;5;241m=\u001b[39m []\n\u001b[0;32m      3\u001b[0m \u001b[38;5;28;01mwith\u001b[39;00m socket\u001b[38;5;241m.\u001b[39msocket(socket\u001b[38;5;241m.\u001b[39mAF_INET, socket\u001b[38;5;241m.\u001b[39mSOCK_STREAM) \u001b[38;5;28;01mas\u001b[39;00m s:\n\u001b[1;32m----> 4\u001b[0m     \u001b[43ms\u001b[49m\u001b[38;5;241;43m.\u001b[39;49m\u001b[43mconnect\u001b[49m\u001b[43m(\u001b[49m\u001b[43m(\u001b[49m\u001b[43mendereco\u001b[49m\u001b[43m,\u001b[49m\u001b[43m \u001b[49m\u001b[43mporta\u001b[49m\u001b[43m)\u001b[49m\u001b[43m)\u001b[49m\n\u001b[0;32m      5\u001b[0m     \u001b[38;5;28;01mfor\u001b[39;00m i \u001b[38;5;129;01min\u001b[39;00m \u001b[38;5;28mrange\u001b[39m(N):\n\u001b[0;32m      6\u001b[0m         data \u001b[38;5;241m=\u001b[39m s\u001b[38;5;241m.\u001b[39mrecv(\u001b[38;5;241m32\u001b[39m)\n",
      "\u001b[1;31mConnectionRefusedError\u001b[0m: [WinError 10061] Nenhuma conexão pôde ser feita porque a máquina de destino as recusou ativamente"
     ]
    }
   ],
   "source": [
    "dados = le_dados_imu(6000, lambda i : print(\"Coletando dados: \" + str(int(100*(i+1)/6000))+ \"%\", end=\"\\r\"))\n"
   ]
  },
  {
   "cell_type": "code",
   "execution_count": 25,
   "id": "c41bfe00",
   "metadata": {},
   "outputs": [],
   "source": [
    "plano1 = np.array ( dados ) [... ,0:3]\n",
    "np.savetxt(\"plano1.txt\",plano1)"
   ]
  },
  {
   "cell_type": "code",
   "execution_count": 27,
   "id": "a5985565",
   "metadata": {},
   "outputs": [],
   "source": [
    "plano2 = np.array ( dados ) [... ,0:3]\n",
    "np.savetxt(\"plano2.txt\",plano2)"
   ]
  },
  {
   "cell_type": "code",
   "execution_count": 29,
   "id": "1b30e8c6",
   "metadata": {},
   "outputs": [],
   "source": [
    "plano3 = np.array ( dados ) [... ,0:3]\n",
    "np.savetxt(\"plano3.txt\",plano3)"
   ]
  },
  {
   "cell_type": "code",
   "execution_count": 31,
   "id": "4cbc8d58",
   "metadata": {},
   "outputs": [],
   "source": [
    "plano4 = np.array ( dados ) [... ,0:3]\n",
    "np.savetxt(\"plano4.txt\",plano4)"
   ]
  },
  {
   "cell_type": "code",
   "execution_count": 12,
   "id": "079ca9af",
   "metadata": {},
   "outputs": [],
   "source": [
    "plano5 = np.array ( dados ) [... ,0:3]\n",
    "np.savetxt(\"plano5.txt\",plano5)"
   ]
  },
  {
   "cell_type": "code",
   "execution_count": 15,
   "id": "346a5d75",
   "metadata": {},
   "outputs": [],
   "source": [
    "inclinado = np.array ( dados ) [... ,0:3]\n",
    "np.savetxt(\"inclinado.txt\",inclinado)"
   ]
  },
  {
   "cell_type": "code",
   "execution_count": 5,
   "id": "db8918aa",
   "metadata": {},
   "outputs": [],
   "source": [
    "plano1 = np.loadtxt(\"plano1.txt\")\n",
    "plano2 = np.loadtxt(\"plano2.txt\")\n",
    "plano3 = np.loadtxt(\"plano3.txt\")\n",
    "plano4 = np.loadtxt(\"plano4.txt\")\n",
    "plano5 = np.loadtxt(\"plano5.txt\")\n",
    "inclinado = np.loadtxt(\"inclinado.txt\")\n",
    "plano = np.concatenate((plano1,plano2,plano3,plano4))\n",
    "Q = np.loadtxt(\"Q.txt\")"
   ]
  },
  {
   "cell_type": "code",
   "execution_count": 6,
   "id": "36c8a8ab",
   "metadata": {},
   "outputs": [],
   "source": [
    "def leitura_corr(x,y,z):\n",
    "    return (x+res2x[0])*res2x[3]*scale,(y+res2x[1])*res2x[4]*scale,(z+res2x[2])*res2x[5]*scale"
   ]
  },
  {
   "cell_type": "code",
   "execution_count": 7,
   "id": "092c0efb",
   "metadata": {},
   "outputs": [],
   "source": [
    "plano_corr = [leitura_corr(e[0],e[1],e[2]) for e in plano]\n"
   ]
  },
  {
   "cell_type": "code",
   "execution_count": 8,
   "id": "36932802",
   "metadata": {},
   "outputs": [
    {
     "name": "stdout",
     "output_type": "stream",
     "text": [
      "[ 1.18577741e-01 -9.03299841e-04 -9.92944361e-01]\n"
     ]
    }
   ],
   "source": [
    "media_plano_corr = np.average(plano_corr,0)\n",
    "norma = np.linalg.norm(media_plano_corr)\n",
    "k = -media_plano_corr/norma\n",
    "print(k)"
   ]
  },
  {
   "cell_type": "code",
   "execution_count": 9,
   "id": "f7fa6a53",
   "metadata": {},
   "outputs": [
    {
     "name": "stdout",
     "output_type": "stream",
     "text": [
      "[[ 9.92942367e-01  2.30880653e-03  1.18575402e-01]\n",
      " [ 2.18540728e-03 -9.99996927e-01  1.17069774e-03]\n",
      " [ 1.18577741e-01 -9.03299841e-04 -9.92944361e-01]]\n"
     ]
    }
   ],
   "source": [
    "g1 = np.average(np.array([leitura_corr(e[0],e[1],e[2]) for e in plano5]),0)\n",
    "g2 = np.average(np.array([leitura_corr(e[0],e[1],e[2]) for e in inclinado]),0)\n",
    "d = g1-g2\n",
    "j = np.cross(d,k)\n",
    "j /= np.linalg.norm(j)\n",
    "i = np.cross(j,k)\n",
    "Q = np.vstack((i,j,k))\n",
    "print(Q)\n",
    "np.savetxt(\"Q.txt\",Q)"
   ]
  },
  {
   "cell_type": "code",
   "execution_count": 10,
   "id": "12f33459",
   "metadata": {},
   "outputs": [
    {
     "name": "stdout",
     "output_type": "stream",
     "text": [
      "{'status': 'success', 'country': 'Brazil', 'countryCode': 'BR', 'region': 'SP', 'regionName': 'São Paulo', 'city': 'São Paulo', 'zip': '01000', 'lat': -23.6301, 'lon': -46.6378, 'timezone': 'America/Sao_Paulo', 'isp': 'Universidade De SAO Paulo', 'org': 'Universidade De SAO Paulo', 'as': 'AS28571 UNIVERSIDADE DE SAO PAULO', 'query': '143.107.167.189'}\n"
     ]
    }
   ],
   "source": [
    "import urllib.request\n",
    "import json\n",
    "with urllib.request.urlopen (\"http://ip-api.com/json/\") as req :\n",
    "    geodata = json.loads(req.read().decode())\n",
    "print(geodata)"
   ]
  },
  {
   "cell_type": "code",
   "execution_count": 11,
   "id": "0497870f",
   "metadata": {},
   "outputs": [
    {
     "name": "stdout",
     "output_type": "stream",
     "text": [
      "-23.6301 -46.6378\n",
      "-14913.366078721565\n"
     ]
    }
   ],
   "source": [
    "\n",
    "import ahrs\n",
    "print(geodata['lat'],geodata['lon'])\n",
    "wmm = ahrs.utils.WMM()\n",
    "wmm.magnetic_field(geodata['lat'],geodata['lon'])\n",
    "F, H, X, Y, Z, I, D = wmm.F, wmm.H, wmm.X, wmm.Y, wmm.Z, wmm.I, wmm.D\n",
    "print(Z)"
   ]
  },
  {
   "cell_type": "code",
   "execution_count": 20,
   "id": "1bdb8366",
   "metadata": {},
   "outputs": [
    {
     "name": "stdout",
     "output_type": "stream",
     "text": [
      "Coletando dados: 100%\r"
     ]
    }
   ],
   "source": [
    "dados = le_dados_imu(6000, lambda i : print(\"Coletando dados: \" + str(int(100*(i+1)/6000))+ \"%\", end=\"\\r\"))"
   ]
  },
  {
   "cell_type": "code",
   "execution_count": 58,
   "id": "83207e06",
   "metadata": {},
   "outputs": [],
   "source": [
    "np.savetxt(\"dados_mag_rand.txt\",dados)"
   ]
  },
  {
   "cell_type": "code",
   "execution_count": 74,
   "id": "564dfd56",
   "metadata": {},
   "outputs": [],
   "source": [
    "np.savetxt(\"orientados.txt\",dados)"
   ]
  },
  {
   "cell_type": "code",
   "execution_count": 21,
   "id": "fa2bebba",
   "metadata": {},
   "outputs": [],
   "source": [
    "np.savetxt(\"GyroParado.txt\",dados)"
   ]
  },
  {
   "cell_type": "code",
   "execution_count": null,
   "id": "e230a045",
   "metadata": {},
   "outputs": [
    {
     "name": "stdout",
     "output_type": "stream",
     "text": [
      "[ 1.84381064e-04  1.19548326e-02  1.11581080e-02 -3.60098284e-06\n",
      "  1.40692531e-05  2.16073720e-04  1.41500773e+02 -1.09630285e+02\n",
      "  9.59760175e+01]\n"
     ]
    }
   ],
   "source": [
    "\n",
    "def costfuncmag (x , data ):\n",
    "  cost = 0\n",
    "  sxx = x[0]\n",
    "  syy = x[1]\n",
    "  szz = x[2]\n",
    "  sxy = x[3]\n",
    "  sxz = x[4]\n",
    "  syz = x[5]\n",
    "  hx = x[6]\n",
    "  hy = x[7]\n",
    "  hz = x[8]\n",
    "  h = np.array(x[6:])\n",
    "  S = np.array([[sxx, sxy, sxz],[sxy, syy, syz], [sxz, syz, szz]])\n",
    "  data = np.array(data)\n",
    "  sumg = 0\n",
    "  for e in data:\n",
    "    diff = e-h\n",
    "    prod = S @ (diff.T)\n",
    "    #print(S,diff,prod)\n",
    "    norm = np.linalg.norm(prod)\n",
    "    sumg += (norm - 1)**2\n",
    "    G = sumg/len(data)\n",
    "  return G\n",
    "\n",
    "def grad_costfuncmag (x , data ):\n",
    "    grad = np.zeros(9)\n",
    "    sxx = x[0]\n",
    "    syy = x[1]\n",
    "    szz = x[2]\n",
    "    sxy = x[3]\n",
    "    sxz = x[4]\n",
    "    syz = x[5]\n",
    "    hx = x[6]\n",
    "    hy = x[7]\n",
    "    hz = x[8]\n",
    "    S = np.array([[sxx, sxy, sxz],[sxy, syy, syz], [sxz, syz, szz]])\n",
    "    h = np.array(x[6:])\n",
    "    data = np.array(data)\n",
    "\n",
    "    ## Atenção: conferir se os vetores grad[i] são linha ou coluna\n",
    "    for e in data:\n",
    "        Ui = S @ (e - h)\n",
    "        #print(Ui.shape)\n",
    "        Ri = np.sqrt(Ui.T @ Ui)\n",
    "        #Ri = np.linalg.norm(Ui)\n",
    "        '''\n",
    "        grad[0] += (Ui/Ri) * (Ri-1) * np.array([e[0]-h[0], 0, 0]) #sxx\n",
    "        grad[1] += (Ui/Ri) * (Ri-1) * np.array([0, e[1]-h[1], 0]) #syy\n",
    "        grad[2] += (Ui/Ri) * (Ri-1) * np.array([0, 0, e[2]-h[2]]) #szz\n",
    "        grad[3] += (Ui/Ri) * (Ri-1) * np.array([e[1]-h[1], e[0]-h[0], 0]) #sxy\n",
    "        grad[4] += (Ui/Ri) * (Ri-1) * np.array([e[2]-h[2], 0, e[0]-h[0]]) #sxz\n",
    "        grad[5] += (Ui/Ri) * (Ri-1) * np.array([0, e[2]-h[2], e[1]-h[1]]) #syz\n",
    "        grad[6] += (Ui/Ri) * (Ri-1) * np.array([-sxx, -sxy, -sxz]) #hx\n",
    "        grad[7] += (Ui/Ri) * (Ri-1) * np.array([-sxy, -syy, -syz]) #hy\n",
    "        grad[8] += (Ui/Ri) * (Ri-1) * np.array([-sxz, -syz, -szz]) #hz\n",
    "        '''\n",
    "        grad[0] += np.array([e[0]-h[0], 0, 0]) @ Ui * (Ri-1)/Ri #sxx\n",
    "        grad[1] += np.array([0, e[1]-h[1], 0]) @ Ui * (Ri-1)/Ri #syy\n",
    "        grad[2] += np.array([0, 0, e[2]-h[2]]) @ Ui * (Ri-1)/Ri #szz\n",
    "        grad[3] += np.array([e[1]-h[1], e[0]-h[0], 0]) @ Ui * (Ri-1)/Ri #sxy\n",
    "        grad[4] += np.array([e[2]-h[2], 0, e[0]-h[0]]) @ Ui * (Ri-1)/Ri #sxz\n",
    "        grad[5] += np.array([0, e[2]-h[2], e[1]-h[1]]) @ Ui * (Ri-1)/Ri #syz\n",
    "        grad[6] += np.array([-sxx, -sxy, -sxz]) @ Ui * (Ri-1)/Ri #hx\n",
    "        grad[7] += np.array([-sxy, -syy, -syz]) @ Ui * (Ri-1)/Ri #hy\n",
    "        grad[8] += np.array([-sxz, -syz, -szz]) @ Ui * (Ri-1)/Ri #hz\n",
    "\n",
    "    for i in range(len(grad)):\n",
    "        grad[i] = grad[i] * 2 / len(data)\n",
    "    return grad\n",
    "\n",
    "dados_brutos = np.loadtxt(\"dados_mag_rand.txt\")\n",
    "captura = dados_brutos[:, 5:8]\n",
    "\n",
    "lxi_max = np.max(captura[:, 0])\n",
    "lxi_min = np.min(captura[:, 0])\n",
    "lyi_max = np.max(captura[:, 1])\n",
    "lyi_min = np.min(captura[:, 1])\n",
    "lzi_max = np.max(captura[:, 2])\n",
    "lzi_min = np.min(captura[:, 2])\n",
    "\n",
    "sxx0 = 2/(lxi_max-lxi_min)\n",
    "syy0 = 2/(lyi_max-lyi_min)\n",
    "szz0 = 2/(lzi_max-lzi_min)\n",
    "hx0 = (lxi_max+lxi_min)/2\n",
    "hy0 = (lyi_max+lyi_min)/2\n",
    "hz0 = (lzi_max+lzi_min)/2\n",
    "sol_inic = np.array([sxx0, syy0, szz0, 0, 0, 0, hx0, hy0, hz0])\n",
    "\n",
    "cal_mag = scipy.optimize.minimize(costfuncmag , sol_inic , captura , jac = grad_costfuncmag)\n",
    "\n",
    "print(cal_mag.x)\n",
    "\n",
    "np.savetxt(\"calmag.txt\",cal_mag.x)"
   ]
  },
  {
   "cell_type": "code",
   "execution_count": null,
   "id": "95db0919",
   "metadata": {},
   "outputs": [
    {
     "name": "stdout",
     "output_type": "stream",
     "text": [
      "[[-3.60098284e-06  1.19548326e-02  2.16073720e-04]\n",
      " [ 1.84381064e-04 -3.60098284e-06  1.40692531e-05]\n",
      " [-1.40692531e-05 -2.16073720e-04 -1.11581080e-02]]\n"
     ]
    }
   ],
   "source": [
    "\n",
    "calmag = np.loadtxt(\"calmag.txt\")\n",
    "S = np.array([[calmag[0],calmag[3],calmag[4]],\n",
    "                [calmag[3],calmag[1],calmag[5]],\n",
    "                [calmag[4],calmag[5],calmag[2]]])\n",
    "H = np.array([calmag[6],calmag[7],calmag[8]])\n",
    "\n",
    "T = np.array([[0,1,0],\n",
    "                [1,0,0],\n",
    "                [0,0,-1]])\n",
    "\n",
    "Sl = T@S\n",
    "Hl = \n",
    "\n",
    "print(Sl)\n"
   ]
  }
 ],
 "metadata": {
  "kernelspec": {
   "display_name": "Python 3",
   "language": "python",
   "name": "python3"
  },
  "language_info": {
   "codemirror_mode": {
    "name": "ipython",
    "version": 3
   },
   "file_extension": ".py",
   "mimetype": "text/x-python",
   "name": "python",
   "nbconvert_exporter": "python",
   "pygments_lexer": "ipython3",
   "version": "3.10.4"
  }
 },
 "nbformat": 4,
 "nbformat_minor": 5
}
