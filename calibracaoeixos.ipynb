{
 "cells": [
  {
   "cell_type": "code",
   "execution_count": 2,
   "id": "add09390",
   "metadata": {},
   "outputs": [],
   "source": [
    "import socket\n",
    "import numpy as np\n",
    "import matplotlib.pyplot as plt\n",
    "import math"
   ]
  },
  {
   "cell_type": "code",
   "execution_count": 9,
   "id": "9e4c3afc",
   "metadata": {},
   "outputs": [],
   "source": [
    "def le_dados_imu(N, func=None, endereco = \"shaka\", porta=1234):\n",
    "    dd = []\n",
    "    with socket.socket(socket.AF_INET, socket.SOCK_STREAM) as s:\n",
    "        s.connect((endereco, porta))\n",
    "        for i in range(N):\n",
    "            data = s.recv(32)\n",
    "            ax = int.from_bytes(data[0:2], byteorder='big', signed=True)\n",
    "            ay = int.from_bytes(data[2:4], byteorder='big', signed=True) \n",
    "            az = int.from_bytes(data[4:6], byteorder='big', signed=True) \n",
    "            temp = int.from_bytes(data[6:8], byteorder='big', signed=True) \n",
    "            wx = int.from_bytes(data[8:10], byteorder='big', signed=True)\n",
    "            wy = int.from_bytes(data[10:12], byteorder='big', signed=True)\n",
    "            wz = int.from_bytes(data[12:14], byteorder='big', signed=True)\n",
    "            mx = int.from_bytes(data[14:16], byteorder='big', signed=True)\n",
    "            my = int.from_bytes(data[16:18], byteorder='big', signed=True)\n",
    "            mz = int.from_bytes(data[18:20], byteorder='big', signed=True)\n",
    "            t = int.from_bytes(data[-8:], byteorder='little', signed=False)\n",
    "            dd.append([ax, ay, az, wx, wy, wz, mx, my, mz, temp, t])\n",
    "            if func:\n",
    "                func(i)\n",
    "    return dd"
   ]
  },
  {
   "cell_type": "code",
   "execution_count": null,
   "id": "a6d8e1c9",
   "metadata": {},
   "outputs": [
    {
     "name": "stdout",
     "output_type": "stream",
     "text": [
      "[-181.4548672  -151.19968288  119.58441564    0.99810697    0.99971396\n",
      "    0.98932928]\n"
     ]
    }
   ],
   "source": [
    "res2x = np.loadtxt(\"res2x.txt\")\n",
    "scale = 0.000598\n",
    "mag_scale = 0.001810\n",
    "print(res2x)"
   ]
  },
  {
   "cell_type": "code",
   "execution_count": 13,
   "id": "914738fe",
   "metadata": {},
   "outputs": [
    {
     "name": "stdout",
     "output_type": "stream",
     "text": [
      "Coletando dados: 100%\r"
     ]
    }
   ],
   "source": [
    "dados = le_dados_imu(6000, lambda i : print(\"Coletando dados: \" + str(int(100*(i+1)/6000))+ \"%\", end=\"\\r\"))\n"
   ]
  },
  {
   "cell_type": "code",
   "execution_count": 25,
   "id": "c41bfe00",
   "metadata": {},
   "outputs": [],
   "source": [
    "plano1 = np.array ( dados ) [... ,0:3]\n",
    "np.savetxt(\"plano1.txt\",plano1)"
   ]
  },
  {
   "cell_type": "code",
   "execution_count": 27,
   "id": "a5985565",
   "metadata": {},
   "outputs": [],
   "source": [
    "plano2 = np.array ( dados ) [... ,0:3]\n",
    "np.savetxt(\"plano2.txt\",plano2)"
   ]
  },
  {
   "cell_type": "code",
   "execution_count": 29,
   "id": "1b30e8c6",
   "metadata": {},
   "outputs": [],
   "source": [
    "plano3 = np.array ( dados ) [... ,0:3]\n",
    "np.savetxt(\"plano3.txt\",plano3)"
   ]
  },
  {
   "cell_type": "code",
   "execution_count": 31,
   "id": "4cbc8d58",
   "metadata": {},
   "outputs": [],
   "source": [
    "plano4 = np.array ( dados ) [... ,0:3]\n",
    "np.savetxt(\"plano4.txt\",plano4)"
   ]
  },
  {
   "cell_type": "code",
   "execution_count": 12,
   "id": "079ca9af",
   "metadata": {},
   "outputs": [],
   "source": [
    "plano5 = np.array ( dados ) [... ,0:3]\n",
    "np.savetxt(\"plano5.txt\",plano5)"
   ]
  },
  {
   "cell_type": "code",
   "execution_count": 15,
   "id": "346a5d75",
   "metadata": {},
   "outputs": [],
   "source": [
    "inclinado = np.array ( dados ) [... ,0:3]\n",
    "np.savetxt(\"inclinado.txt\",inclinado)"
   ]
  },
  {
   "cell_type": "code",
   "execution_count": null,
   "id": "db8918aa",
   "metadata": {},
   "outputs": [],
   "source": [
    "plano1 = np.loadtxt(\"plano1.txt\")\n",
    "plano2 = np.loadtxt(\"plano2.txt\")\n",
    "plano3 = np.loadtxt(\"plano3.txt\")\n",
    "plano4 = np.loadtxt(\"plano4.txt\")\n",
    "plano5 = np.loadtxt(\"plano5.txt\")\n",
    "inclinado = np.loadtxt(\"inclinado.txt\")\n",
    "plano = np.concatenate((plano1,plano2,plano3,plano4))\n",
    "Q = np.loadtxt(\"Q.txt\")"
   ]
  },
  {
   "cell_type": "code",
   "execution_count": null,
   "id": "36c8a8ab",
   "metadata": {},
   "outputs": [],
   "source": [
    "def leitura_corr(x,y,z):\n",
    "    return (x+res2x[0])*res2x[3]*scale,(y+res2x[1])*res2x[4]*scale,(z+res2x[2])*res2x[5]*scale"
   ]
  },
  {
   "cell_type": "code",
   "execution_count": 6,
   "id": "092c0efb",
   "metadata": {},
   "outputs": [],
   "source": [
    "plano_corr = [leitura_corr(e[0],e[1],e[2]) for e in plano]\n"
   ]
  },
  {
   "cell_type": "code",
   "execution_count": 22,
   "id": "36932802",
   "metadata": {},
   "outputs": [
    {
     "name": "stdout",
     "output_type": "stream",
     "text": [
      "[ 1.18577741e-01 -9.03299841e-04 -9.92944361e-01]\n"
     ]
    }
   ],
   "source": [
    "media_plano_corr = np.average(plano_corr,0)\n",
    "norma = np.linalg.norm(media_plano_corr)\n",
    "k = -media_plano_corr/norma\n",
    "print(k)"
   ]
  },
  {
   "cell_type": "code",
   "execution_count": 55,
   "id": "f7fa6a53",
   "metadata": {},
   "outputs": [
    {
     "name": "stdout",
     "output_type": "stream",
     "text": [
      "[[ 9.92942367e-01  2.30880653e-03  1.18575402e-01]\n",
      " [ 2.18540728e-03 -9.99996927e-01  1.17069774e-03]\n",
      " [ 1.18577741e-01 -9.03299841e-04 -9.92944361e-01]]\n"
     ]
    }
   ],
   "source": [
    "g1 = np.average(np.array([leitura_corr(e[0],e[1],e[2]) for e in plano5]),0)\n",
    "g2 = np.average(np.array([leitura_corr(e[0],e[1],e[2]) for e in inclinado]),0)\n",
    "d = g1-g2\n",
    "j = np.cross(d,k)\n",
    "j /= np.linalg.norm(j)\n",
    "i = np.cross(j,k)\n",
    "Q = np.vstack((i,j,k))\n",
    "print(Q)\n",
    "np.savetxt(\"Q.txt\",Q)"
   ]
  },
  {
   "cell_type": "code",
   "execution_count": 43,
   "id": "12f33459",
   "metadata": {},
   "outputs": [
    {
     "name": "stdout",
     "output_type": "stream",
     "text": [
      "{'status': 'success', 'country': 'Brazil', 'countryCode': 'BR', 'region': 'SP', 'regionName': 'São Paulo', 'city': 'São Paulo', 'zip': '01000', 'lat': -23.6301, 'lon': -46.6378, 'timezone': 'America/Sao_Paulo', 'isp': 'Universidade De SAO Paulo', 'org': 'Universidade De SAO Paulo', 'as': 'AS28571 UNIVERSIDADE DE SAO PAULO', 'query': '143.107.167.189'}\n"
     ]
    }
   ],
   "source": [
    "import urllib.request\n",
    "import json\n",
    "with urllib.request.urlopen (\"http://ip-api.com/json/\") as req :\n",
    "    geodata = json.loads(req.read().decode())\n",
    "print(geodata)"
   ]
  },
  {
   "cell_type": "code",
   "execution_count": 56,
   "id": "0497870f",
   "metadata": {},
   "outputs": [
    {
     "name": "stdout",
     "output_type": "stream",
     "text": [
      "-23.6301 -46.6378\n",
      "-14913.366078721565\n"
     ]
    }
   ],
   "source": [
    "\n",
    "import ahrs\n",
    "print(geodata['lat'],geodata['lon'])\n",
    "wmm = ahrs.utils.WMM()\n",
    "wmm.magnetic_field(geodata['lat'],geodata['lon'])\n",
    "F, H, X, Y, Z, I, D = wmm.F, wmm.H, wmm.X, wmm.Y, wmm.Z, wmm.I, wmm.D\n",
    "print(Z)"
   ]
  },
  {
   "cell_type": "code",
   "execution_count": 57,
   "id": "1bdb8366",
   "metadata": {},
   "outputs": [
    {
     "name": "stdout",
     "output_type": "stream",
     "text": [
      "Coletando dados: 100%\r"
     ]
    }
   ],
   "source": [
    "dados = le_dados_imu(15000, lambda i : print(\"Coletando dados: \" + str(int(100*(i+1)/15000))+ \"%\", end=\"\\r\"))"
   ]
  },
  {
   "cell_type": "code",
   "execution_count": 58,
   "id": "83207e06",
   "metadata": {},
   "outputs": [],
   "source": [
    "np.savetxt(\"dados_mag_rand.txt\",dados)"
   ]
  }
 ],
 "metadata": {
  "kernelspec": {
   "display_name": "Python 3",
   "language": "python",
   "name": "python3"
  },
  "language_info": {
   "codemirror_mode": {
    "name": "ipython",
    "version": 3
   },
   "file_extension": ".py",
   "mimetype": "text/x-python",
   "name": "python",
   "nbconvert_exporter": "python",
   "pygments_lexer": "ipython3",
   "version": "3.10.4"
  }
 },
 "nbformat": 4,
 "nbformat_minor": 5
}
